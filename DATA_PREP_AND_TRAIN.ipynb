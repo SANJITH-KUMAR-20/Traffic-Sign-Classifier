{
 "cells": [
  {
   "cell_type": "code",
   "execution_count": 6,
   "metadata": {},
   "outputs": [],
   "source": [
    "from sklearn.model_selection import train_test_split\n",
    "import pandas as pd\n",
    "import os\n",
    "import numpy as np\n",
    "import cv2 as cv\n",
    "import tensorflow as tf\n",
    "from PIL import Image"
   ]
  },
  {
   "cell_type": "code",
   "execution_count": 7,
   "metadata": {},
   "outputs": [],
   "source": [
    "images=[]\n",
    "labels=[]\n",
    "classes = 43\n",
    "current = \"C:\\\\Users\\\\sanji\\\\Downloads\\\\archive (1)\""
   ]
  },
  {
   "cell_type": "code",
   "execution_count": 9,
   "metadata": {},
   "outputs": [],
   "source": [
    "for i in range(classes):\n",
    "    path = os.path.join(current,'train',str(i))\n",
    "    imgs = os.listdir(path)\n",
    "\n",
    "    for img in imgs:\n",
    "        image = Image.open(path+'\\\\'+img)\n",
    "        image = image.resize((30,30))\n",
    "        image = np.array(image)\n",
    "        images.append(image)\n",
    "        labels.append(i)\n",
    "images = np.array(images)\n",
    "labels = np.array(labels)"
   ]
  },
  {
   "cell_type": "code",
   "execution_count": 10,
   "metadata": {},
   "outputs": [],
   "source": [
    "x_train,x_test,y_train,y_test = train_test_split(images,labels,test_size = 0.2,random_state =42)"
   ]
  },
  {
   "cell_type": "code",
   "execution_count": 11,
   "metadata": {},
   "outputs": [],
   "source": [
    "y_train = tf.keras.utils.to_categorical(y_train,43)\n",
    "y_test = tf.keras.utils.to_categorical(y_test,43)"
   ]
  },
  {
   "cell_type": "code",
   "execution_count": 13,
   "metadata": {},
   "outputs": [],
   "source": [
    "model = tf.keras.models.Sequential([\n",
    "    tf.keras.layers.Conv2D(filters=32,kernel_size=(5,5),activation='relu',input_shape = x_train.shape[1:]),\n",
    "    tf.keras.layers.Conv2D(filters = 32,kernel_size=(5,5),activation = 'relu'),\n",
    "    tf.keras.layers.MaxPool2D(pool_size=(2,2)),\n",
    "    tf.keras.layers.Dropout(rate=0.25),\n",
    "    tf.keras.layers.Conv2D(filters=64,kernel_size=(3,3),activation='relu'),\n",
    "    tf.keras.layers.Conv2D(filters=64,kernel_size=(3,3),activation='relu'),\n",
    "    tf.keras.layers.MaxPool2D(pool_size=(2,2)),\n",
    "    tf.keras.layers.Dropout(rate=0.25),\n",
    "    tf.keras.layers.Flatten(),\n",
    "    tf.keras.layers.Dense(256,activation = 'relu'),\n",
    "    tf.keras.layers.Dropout(rate=0.5),\n",
    "    tf.keras.layers.Dense(43,activation = 'softmax')\n",
    "])"
   ]
  },
  {
   "cell_type": "code",
   "execution_count": 14,
   "metadata": {},
   "outputs": [],
   "source": [
    "model.compile(optimizer = tf.keras.optimizers.Adam(learning_rate=0.001),loss='categorical_crossentropy',metrics=['accuracy'])"
   ]
  },
  {
   "cell_type": "code",
   "execution_count": 15,
   "metadata": {},
   "outputs": [
    {
     "name": "stdout",
     "output_type": "stream",
     "text": [
      "Epoch 1/12\n",
      "981/981 [==============================] - 129s 126ms/step - loss: 1.7341 - accuracy: 0.5699 - val_loss: 0.2302 - val_accuracy: 0.9472\n",
      "Epoch 2/12\n",
      "981/981 [==============================] - 123s 126ms/step - loss: 0.4076 - accuracy: 0.8882 - val_loss: 0.1097 - val_accuracy: 0.9716\n",
      "Epoch 3/12\n",
      "981/981 [==============================] - 125s 127ms/step - loss: 0.2767 - accuracy: 0.9265 - val_loss: 0.1312 - val_accuracy: 0.9662\n",
      "Epoch 4/12\n",
      "981/981 [==============================] - 126s 128ms/step - loss: 0.2592 - accuracy: 0.9318 - val_loss: 0.0690 - val_accuracy: 0.9809\n",
      "Epoch 5/12\n",
      "981/981 [==============================] - 151s 153ms/step - loss: 0.2385 - accuracy: 0.9380 - val_loss: 0.0766 - val_accuracy: 0.9815\n",
      "Epoch 6/12\n",
      "981/981 [==============================] - 145s 147ms/step - loss: 0.2206 - accuracy: 0.9432 - val_loss: 0.0493 - val_accuracy: 0.9897\n",
      "Epoch 7/12\n",
      "981/981 [==============================] - 132s 135ms/step - loss: 0.1979 - accuracy: 0.9503 - val_loss: 0.0829 - val_accuracy: 0.9759\n",
      "Epoch 8/12\n",
      "981/981 [==============================] - 125s 127ms/step - loss: 0.2079 - accuracy: 0.9506 - val_loss: 0.0537 - val_accuracy: 0.9879\n",
      "Epoch 9/12\n",
      "981/981 [==============================] - 162s 165ms/step - loss: 0.1905 - accuracy: 0.9542 - val_loss: 0.0596 - val_accuracy: 0.9836\n",
      "Epoch 10/12\n",
      "981/981 [==============================] - 164s 168ms/step - loss: 0.1691 - accuracy: 0.9592 - val_loss: 0.0449 - val_accuracy: 0.9883\n",
      "Epoch 11/12\n",
      "981/981 [==============================] - 162s 165ms/step - loss: 0.1755 - accuracy: 0.9586 - val_loss: 0.0503 - val_accuracy: 0.9874\n",
      "Epoch 12/12\n",
      "981/981 [==============================] - 188s 191ms/step - loss: 0.1883 - accuracy: 0.9567 - val_loss: 0.0401 - val_accuracy: 0.9904\n"
     ]
    }
   ],
   "source": [
    "modeled = model.fit(x_train,y_train,batch_size=32,validation_data=(x_test,y_test),epochs=12)\n"
   ]
  },
  {
   "cell_type": "code",
   "execution_count": 16,
   "metadata": {},
   "outputs": [],
   "source": [
    "model.save('my_model.h5')"
   ]
  },
  {
   "cell_type": "code",
   "execution_count": null,
   "metadata": {},
   "outputs": [],
   "source": []
  }
 ],
 "metadata": {
  "kernelspec": {
   "display_name": "Python 3",
   "language": "python",
   "name": "python3"
  },
  "language_info": {
   "codemirror_mode": {
    "name": "ipython",
    "version": 3
   },
   "file_extension": ".py",
   "mimetype": "text/x-python",
   "name": "python",
   "nbconvert_exporter": "python",
   "pygments_lexer": "ipython3",
   "version": "3.10.8 (tags/v3.10.8:aaaf517, Oct 11 2022, 16:50:30) [MSC v.1933 64 bit (AMD64)]"
  },
  "orig_nbformat": 4,
  "vscode": {
   "interpreter": {
    "hash": "9b4d75ac280b6c7c3aa43866cb82dc88915409b55fec83a093dd0284cb58708e"
   }
  }
 },
 "nbformat": 4,
 "nbformat_minor": 2
}
